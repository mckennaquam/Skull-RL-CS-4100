{
 "cells": [
  {
   "cell_type": "code",
   "execution_count": 64,
   "metadata": {},
   "outputs": [],
   "source": [
    "import pandas as pd\n",
    "import matplotlib.pyplot as plt\n",
    "import numpy as np"
   ]
  },
  {
   "cell_type": "code",
   "execution_count": 65,
   "metadata": {},
   "outputs": [
    {
     "data": {
      "image/png": "[encoded data removed]",
      "text/plain": [
       "<Figure size 640x480 with 1 Axes>"
      ]
     },
     "metadata": {},
     "output_type": "display_data"
    }
   ],
   "source": [
    "# Code for creating charts for the Q agent who only learns the attempt phase\n",
    "# bar charts for both game outcomes and attempt outcomes\n",
    "\n",
    "df_game = pd.read_csv(\"simulation_data/q_learn_approx_attempt_only/qlearn_approx_attempt_game_outcomes.csv\")\n",
    "df_game = df_game.groupby('player')[['player_type']].value_counts().reset_index(name='count')\n",
    "fig, ax = plt.subplots()\n",
    "\n",
    "#green \"#5ec962\"\n",
    "#blue \"#3b528b\"\n",
    "\n",
    "df_game[\"Win Share %\"] = df_game[\"count\"] / 10\n",
    "df_game['player_type'] = df_game['player_type'].str.title()\n",
    "\n",
    "bar_colors = [\"#5ec962\", \"#3b528b\", \"#3b528b\", \"#3b528b\"]\n",
    "\n",
    "bars = ax.bar(df_game[\"player_type\"], df_game[\"Win Share %\"], color=bar_colors)\n",
    "\n",
    "ax.set_ylabel('Win Share %')\n",
    "ax.set_xlabel('Player Type')\n",
    "ax.tick_params(axis='x', labelsize=9)\n",
    "ax.set_title('Total Wins - Approx Q Attempt Only')\n",
    "\n",
    "\n",
    "plt.show()"
   ]
  },
  {
   "cell_type": "code",
   "execution_count": 76,
   "metadata": {},
   "outputs": [
    {
     "data": {
      "text/html": [
       "<div>\n",
       "<style scoped>\n",
       "    .dataframe tbody tr th:only-of-type {\n",
       "        vertical-align: middle;\n",
       "    }\n",
       "\n",
       "    .dataframe tbody tr th {\n",
       "        vertical-align: top;\n",
       "    }\n",
       "\n",
       "    .dataframe thead th {\n",
       "        text-align: right;\n",
       "    }\n",
       "</style>\n",
       "<table border=\"1\" class=\"dataframe\">\n",
       "  <thead>\n",
       "    <tr style=\"text-align: right;\">\n",
       "      <th></th>\n",
       "      <th>player</th>\n",
       "      <th>player_type</th>\n",
       "      <th>count</th>\n",
       "      <th>Win Share %</th>\n",
       "    </tr>\n",
       "  </thead>\n",
       "  <tbody>\n",
       "    <tr>\n",
       "      <th>0</th>\n",
       "      <td>0</td>\n",
       "      <td>Approx Q Learning</td>\n",
       "      <td>147</td>\n",
       "      <td>14.7</td>\n",
       "    </tr>\n",
       "    <tr>\n",
       "      <th>1</th>\n",
       "      <td>1</td>\n",
       "      <td>Smart 2: 0, 0.4</td>\n",
       "      <td>225</td>\n",
       "      <td>22.5</td>\n",
       "    </tr>\n",
       "    <tr>\n",
       "      <th>2</th>\n",
       "      <td>2</td>\n",
       "      <td>Smart 2: 2, 0.6</td>\n",
       "      <td>347</td>\n",
       "      <td>34.7</td>\n",
       "    </tr>\n",
       "    <tr>\n",
       "      <th>3</th>\n",
       "      <td>3</td>\n",
       "      <td>Smart 2: 0, 0.6</td>\n",
       "      <td>281</td>\n",
       "      <td>28.1</td>\n",
       "    </tr>\n",
       "  </tbody>\n",
       "</table>\n",
       "</div>"
      ],
      "text/plain": [
       "   player        player_type  count  Win Share %\n",
       "0       0  Approx Q Learning    147         14.7\n",
       "1       1    Smart 2: 0, 0.4    225         22.5\n",
       "2       2    Smart 2: 2, 0.6    347         34.7\n",
       "3       3    Smart 2: 0, 0.6    281         28.1"
      ]
     },
     "execution_count": 76,
     "metadata": {},
     "output_type": "execute_result"
    }
   ],
   "source": [
    "df_game"
   ]
  },
  {
   "cell_type": "code",
   "execution_count": 66,
   "metadata": {},
   "outputs": [
    {
     "data": {
      "text/html": [
       "<div>\n",
       "<style scoped>\n",
       "    .dataframe tbody tr th:only-of-type {\n",
       "        vertical-align: middle;\n",
       "    }\n",
       "\n",
       "    .dataframe tbody tr th {\n",
       "        vertical-align: top;\n",
       "    }\n",
       "\n",
       "    .dataframe thead th {\n",
       "        text-align: right;\n",
       "    }\n",
       "</style>\n",
       "<table border=\"1\" class=\"dataframe\">\n",
       "  <thead>\n",
       "    <tr style=\"text-align: right;\">\n",
       "      <th></th>\n",
       "      <th>player type</th>\n",
       "      <th>player</th>\n",
       "      <th>result</th>\n",
       "    </tr>\n",
       "  </thead>\n",
       "  <tbody>\n",
       "    <tr>\n",
       "      <th>0</th>\n",
       "      <td>smart 2: 0, 0.6</td>\n",
       "      <td>3</td>\n",
       "      <td>self lose challange</td>\n",
       "    </tr>\n",
       "    <tr>\n",
       "      <th>1</th>\n",
       "      <td>smart 2: 0, 0.6</td>\n",
       "      <td>3</td>\n",
       "      <td>self lose challange</td>\n",
       "    </tr>\n",
       "    <tr>\n",
       "      <th>2</th>\n",
       "      <td>smart 2: 2, 0.6</td>\n",
       "      <td>2</td>\n",
       "      <td>turned flower</td>\n",
       "    </tr>\n",
       "    <tr>\n",
       "      <th>3</th>\n",
       "      <td>smart 2: 2, 0.6</td>\n",
       "      <td>2</td>\n",
       "      <td>turned flower</td>\n",
       "    </tr>\n",
       "    <tr>\n",
       "      <th>4</th>\n",
       "      <td>smart 2: 2, 0.6</td>\n",
       "      <td>2</td>\n",
       "      <td>turned flower</td>\n",
       "    </tr>\n",
       "  </tbody>\n",
       "</table>\n",
       "</div>"
      ],
      "text/plain": [
       "       player type  player               result\n",
       "0  smart 2: 0, 0.6       3  self lose challange\n",
       "1  smart 2: 0, 0.6       3  self lose challange\n",
       "2  smart 2: 2, 0.6       2        turned flower\n",
       "3  smart 2: 2, 0.6       2        turned flower\n",
       "4  smart 2: 2, 0.6       2        turned flower"
      ]
     },
     "execution_count": 66,
     "metadata": {},
     "output_type": "execute_result"
    }
   ],
   "source": [
    "df = pd.read_csv(\"simulation_data/q_learn_approx_attempt_only/qlearn_approx_attempt_attempt_outcomes.csv\", index_col=0)\n",
    "df.head()"
   ]
  },
  {
   "cell_type": "code",
   "execution_count": 67,
   "metadata": {},
   "outputs": [
    {
     "data": {
      "text/html": [
       "<div>\n",
       "<style scoped>\n",
       "    .dataframe tbody tr th:only-of-type {\n",
       "        vertical-align: middle;\n",
       "    }\n",
       "\n",
       "    .dataframe tbody tr th {\n",
       "        vertical-align: top;\n",
       "    }\n",
       "\n",
       "    .dataframe thead th {\n",
       "        text-align: right;\n",
       "    }\n",
       "</style>\n",
       "<table border=\"1\" class=\"dataframe\">\n",
       "  <thead>\n",
       "    <tr style=\"text-align: right;\">\n",
       "      <th></th>\n",
       "      <th>player type</th>\n",
       "      <th>player</th>\n",
       "      <th>result</th>\n",
       "      <th>turned</th>\n",
       "    </tr>\n",
       "  </thead>\n",
       "  <tbody>\n",
       "    <tr>\n",
       "      <th>0</th>\n",
       "      <td>smart 2: 0, 0.6</td>\n",
       "      <td>3</td>\n",
       "      <td>self lose challange</td>\n",
       "      <td>skull</td>\n",
       "    </tr>\n",
       "    <tr>\n",
       "      <th>1</th>\n",
       "      <td>smart 2: 0, 0.6</td>\n",
       "      <td>3</td>\n",
       "      <td>self lose challange</td>\n",
       "      <td>skull</td>\n",
       "    </tr>\n",
       "    <tr>\n",
       "      <th>2</th>\n",
       "      <td>smart 2: 2, 0.6</td>\n",
       "      <td>2</td>\n",
       "      <td>turned flower</td>\n",
       "      <td>flower</td>\n",
       "    </tr>\n",
       "    <tr>\n",
       "      <th>3</th>\n",
       "      <td>smart 2: 2, 0.6</td>\n",
       "      <td>2</td>\n",
       "      <td>turned flower</td>\n",
       "      <td>flower</td>\n",
       "    </tr>\n",
       "    <tr>\n",
       "      <th>4</th>\n",
       "      <td>smart 2: 2, 0.6</td>\n",
       "      <td>2</td>\n",
       "      <td>turned flower</td>\n",
       "      <td>flower</td>\n",
       "    </tr>\n",
       "  </tbody>\n",
       "</table>\n",
       "</div>"
      ],
      "text/plain": [
       "       player type  player               result  turned\n",
       "0  smart 2: 0, 0.6       3  self lose challange   skull\n",
       "1  smart 2: 0, 0.6       3  self lose challange   skull\n",
       "2  smart 2: 2, 0.6       2        turned flower  flower\n",
       "3  smart 2: 2, 0.6       2        turned flower  flower\n",
       "4  smart 2: 2, 0.6       2        turned flower  flower"
      ]
     },
     "execution_count": 67,
     "metadata": {},
     "output_type": "execute_result"
    }
   ],
   "source": [
    "df[\"turned\"] = np.where(df[\"result\"].isin([\"turned flower\", \"win challange\"]), \"flower\", \"skull\")\n",
    "df.head()"
   ]
  },
  {
   "cell_type": "code",
   "execution_count": 68,
   "metadata": {},
   "outputs": [
    {
     "data": {
      "text/html": [
       "<div>\n",
       "<style scoped>\n",
       "    .dataframe tbody tr th:only-of-type {\n",
       "        vertical-align: middle;\n",
       "    }\n",
       "\n",
       "    .dataframe tbody tr th {\n",
       "        vertical-align: top;\n",
       "    }\n",
       "\n",
       "    .dataframe thead th {\n",
       "        text-align: right;\n",
       "    }\n",
       "</style>\n",
       "<table border=\"1\" class=\"dataframe\">\n",
       "  <thead>\n",
       "    <tr style=\"text-align: right;\">\n",
       "      <th>turned</th>\n",
       "      <th>flower</th>\n",
       "      <th>skull</th>\n",
       "    </tr>\n",
       "    <tr>\n",
       "      <th>player type</th>\n",
       "      <th></th>\n",
       "      <th></th>\n",
       "    </tr>\n",
       "  </thead>\n",
       "  <tbody>\n",
       "    <tr>\n",
       "      <th>Approx Q Learning</th>\n",
       "      <td>7908</td>\n",
       "      <td>3620</td>\n",
       "    </tr>\n",
       "    <tr>\n",
       "      <th>Smart 2: 0, 0.4</th>\n",
       "      <td>3904</td>\n",
       "      <td>3210</td>\n",
       "    </tr>\n",
       "    <tr>\n",
       "      <th>Smart 2: 0, 0.6</th>\n",
       "      <td>2810</td>\n",
       "      <td>2251</td>\n",
       "    </tr>\n",
       "    <tr>\n",
       "      <th>Smart 2: 2, 0.6</th>\n",
       "      <td>3230</td>\n",
       "      <td>1852</td>\n",
       "    </tr>\n",
       "  </tbody>\n",
       "</table>\n",
       "</div>"
      ],
      "text/plain": [
       "turned             flower  skull\n",
       "player type                     \n",
       "Approx Q Learning    7908   3620\n",
       "Smart 2: 0, 0.4      3904   3210\n",
       "Smart 2: 0, 0.6      2810   2251\n",
       "Smart 2: 2, 0.6      3230   1852"
      ]
     },
     "execution_count": 68,
     "metadata": {},
     "output_type": "execute_result"
    }
   ],
   "source": [
    "df_flower = df.groupby('player')[['player type', 'turned']].value_counts().reset_index(name='count')\n",
    "df_flower = df_flower[[\"player type\", \"turned\", \"count\"]]\n",
    "\n",
    "df_flower[\"player type\"] = df_flower[\"player type\"].str.title()\n",
    "\n",
    "df_flower_pivot = df_flower.pivot_table(index=\"player type\", \n",
    "                             columns=\"turned\", \n",
    "                             values=\"count\", \n",
    "                             aggfunc=\"sum\", \n",
    "                             fill_value=0)\n",
    "\n",
    "df_flower_pivot\n"
   ]
  },
  {
   "cell_type": "code",
   "execution_count": 69,
   "metadata": {},
   "outputs": [
    {
     "data": {
      "text/html": [
       "<div>\n",
       "<style scoped>\n",
       "    .dataframe tbody tr th:only-of-type {\n",
       "        vertical-align: middle;\n",
       "    }\n",
       "\n",
       "    .dataframe tbody tr th {\n",
       "        vertical-align: top;\n",
       "    }\n",
       "\n",
       "    .dataframe thead th {\n",
       "        text-align: right;\n",
       "    }\n",
       "</style>\n",
       "<table border=\"1\" class=\"dataframe\">\n",
       "  <thead>\n",
       "    <tr style=\"text-align: right;\">\n",
       "      <th>turned</th>\n",
       "      <th>flower</th>\n",
       "      <th>skull</th>\n",
       "      <th>flower_percentage</th>\n",
       "    </tr>\n",
       "    <tr>\n",
       "      <th>player type</th>\n",
       "      <th></th>\n",
       "      <th></th>\n",
       "      <th></th>\n",
       "    </tr>\n",
       "  </thead>\n",
       "  <tbody>\n",
       "    <tr>\n",
       "      <th>Approx Q Learning</th>\n",
       "      <td>7908</td>\n",
       "      <td>3620</td>\n",
       "      <td>0.685982</td>\n",
       "    </tr>\n",
       "    <tr>\n",
       "      <th>Smart 2: 0, 0.4</th>\n",
       "      <td>3904</td>\n",
       "      <td>3210</td>\n",
       "      <td>0.548777</td>\n",
       "    </tr>\n",
       "    <tr>\n",
       "      <th>Smart 2: 0, 0.6</th>\n",
       "      <td>2810</td>\n",
       "      <td>2251</td>\n",
       "      <td>0.555226</td>\n",
       "    </tr>\n",
       "    <tr>\n",
       "      <th>Smart 2: 2, 0.6</th>\n",
       "      <td>3230</td>\n",
       "      <td>1852</td>\n",
       "      <td>0.635577</td>\n",
       "    </tr>\n",
       "  </tbody>\n",
       "</table>\n",
       "</div>"
      ],
      "text/plain": [
       "turned             flower  skull  flower_percentage\n",
       "player type                                        \n",
       "Approx Q Learning    7908   3620           0.685982\n",
       "Smart 2: 0, 0.4      3904   3210           0.548777\n",
       "Smart 2: 0, 0.6      2810   2251           0.555226\n",
       "Smart 2: 2, 0.6      3230   1852           0.635577"
      ]
     },
     "execution_count": 69,
     "metadata": {},
     "output_type": "execute_result"
    }
   ],
   "source": [
    "df_flower_pivot[\"flower_percentage\"] = df_flower_pivot[\"flower\"] / (df_flower_pivot[\"flower\"] + df_flower_pivot[\"skull\"])\n",
    "df_flower_pivot"
   ]
  },
  {
   "cell_type": "code",
   "execution_count": 70,
   "metadata": {},
   "outputs": [],
   "source": [
    "df_flower_pivot = df_flower_pivot[[\"flower_percentage\"]].reset_index()"
   ]
  },
  {
   "cell_type": "code",
   "execution_count": 71,
   "metadata": {},
   "outputs": [],
   "source": [
    "df_flower_pivot[\"flower_percentage\"] = df_flower_pivot[\"flower_percentage\"] * 100"
   ]
  },
  {
   "cell_type": "code",
   "execution_count": 72,
   "metadata": {},
   "outputs": [
    {
     "data": {
      "image/png": "[encoded data removed]",
      "text/plain": [
       "<Figure size 640x480 with 1 Axes>"
      ]
     },
     "metadata": {},
     "output_type": "display_data"
    }
   ],
   "source": [
    "fig, ax = plt.subplots()\n",
    "\n",
    "#green \"#5ec962\"\n",
    "#blue \"#3b528b\"\n",
    "\n",
    "bar_colors = [\"#5ec962\", \"#3b528b\", \"#3b528b\", \"#3b528b\"]\n",
    "\n",
    "bars = ax.bar(df_flower_pivot[\"player type\"], df_flower_pivot[\"flower_percentage\"], label=df_flower_pivot[\"player type\"], color=bar_colors)\n",
    "\n",
    "ax.set_ylabel('% Turned Flower')\n",
    "ax.set_xlabel('Player Type')\n",
    "ax.set_title('Card Turned Outcomes - Approx Q Learning')\n",
    "\n",
    "ax.bar_label(bars)\n",
    "\n",
    "plt.show()"
   ]
  },
  {
   "cell_type": "code",
   "execution_count": 73,
   "metadata": {},
   "outputs": [
    {
     "data": {
      "text/html": [
       "<div>\n",
       "<style scoped>\n",
       "    .dataframe tbody tr th:only-of-type {\n",
       "        vertical-align: middle;\n",
       "    }\n",
       "\n",
       "    .dataframe tbody tr th {\n",
       "        vertical-align: top;\n",
       "    }\n",
       "\n",
       "    .dataframe thead th {\n",
       "        text-align: right;\n",
       "    }\n",
       "</style>\n",
       "<table border=\"1\" class=\"dataframe\">\n",
       "  <thead>\n",
       "    <tr style=\"text-align: right;\">\n",
       "      <th></th>\n",
       "      <th>player</th>\n",
       "      <th>player type</th>\n",
       "      <th>turned</th>\n",
       "      <th>Count</th>\n",
       "    </tr>\n",
       "  </thead>\n",
       "  <tbody>\n",
       "    <tr>\n",
       "      <th>0</th>\n",
       "      <td>0</td>\n",
       "      <td>approx q learning</td>\n",
       "      <td>flower</td>\n",
       "      <td>7908</td>\n",
       "    </tr>\n",
       "    <tr>\n",
       "      <th>1</th>\n",
       "      <td>0</td>\n",
       "      <td>approx q learning</td>\n",
       "      <td>skull</td>\n",
       "      <td>3620</td>\n",
       "    </tr>\n",
       "    <tr>\n",
       "      <th>2</th>\n",
       "      <td>1</td>\n",
       "      <td>smart 2: 0, 0.4</td>\n",
       "      <td>flower</td>\n",
       "      <td>3904</td>\n",
       "    </tr>\n",
       "    <tr>\n",
       "      <th>3</th>\n",
       "      <td>1</td>\n",
       "      <td>smart 2: 0, 0.4</td>\n",
       "      <td>skull</td>\n",
       "      <td>3210</td>\n",
       "    </tr>\n",
       "    <tr>\n",
       "      <th>4</th>\n",
       "      <td>2</td>\n",
       "      <td>smart 2: 2, 0.6</td>\n",
       "      <td>flower</td>\n",
       "      <td>3230</td>\n",
       "    </tr>\n",
       "    <tr>\n",
       "      <th>5</th>\n",
       "      <td>2</td>\n",
       "      <td>smart 2: 2, 0.6</td>\n",
       "      <td>skull</td>\n",
       "      <td>1852</td>\n",
       "    </tr>\n",
       "    <tr>\n",
       "      <th>6</th>\n",
       "      <td>3</td>\n",
       "      <td>smart 2: 0, 0.6</td>\n",
       "      <td>flower</td>\n",
       "      <td>2810</td>\n",
       "    </tr>\n",
       "    <tr>\n",
       "      <th>7</th>\n",
       "      <td>3</td>\n",
       "      <td>smart 2: 0, 0.6</td>\n",
       "      <td>skull</td>\n",
       "      <td>2251</td>\n",
       "    </tr>\n",
       "  </tbody>\n",
       "</table>\n",
       "</div>"
      ],
      "text/plain": [
       "   player        player type  turned  Count\n",
       "0       0  approx q learning  flower   7908\n",
       "1       0  approx q learning   skull   3620\n",
       "2       1    smart 2: 0, 0.4  flower   3904\n",
       "3       1    smart 2: 0, 0.4   skull   3210\n",
       "4       2    smart 2: 2, 0.6  flower   3230\n",
       "5       2    smart 2: 2, 0.6   skull   1852\n",
       "6       3    smart 2: 0, 0.6  flower   2810\n",
       "7       3    smart 2: 0, 0.6   skull   2251"
      ]
     },
     "execution_count": 73,
     "metadata": {},
     "output_type": "execute_result"
    }
   ],
   "source": [
    "turned_counts =  df.groupby('player')[['player type', 'turned']].value_counts().reset_index(name='Count')\n",
    "turned_counts"
   ]
  },
  {
   "cell_type": "code",
   "execution_count": 74,
   "metadata": {},
   "outputs": [
    {
     "data": {
      "image/png": "[encoded data removed]",
      "text/plain": [
       "<Figure size 640x480 with 1 Axes>"
      ]
     },
     "metadata": {},
     "output_type": "display_data"
    }
   ],
   "source": [
    "width = 0.5\n",
    "\n",
    "fig, ax = plt.subplots()\n",
    "bottom = np.zeros(4)\n",
    "\n",
    "player_types = (\n",
    "    \"approx q learning\",\n",
    "    \"smart 2: 0, 0.4\",\n",
    "    \"smart 2: 2, 0.6\",\n",
    "    \"smart 2: 0, 0.6\"\n",
    ")\n",
    "\n",
    "turned_counts = {\n",
    "    \"Flower turned\" :turned_counts[turned_counts[\"turned\"] == \"flower\"][\"Count\"],\n",
    "    \"Skull turned\" :turned_counts[turned_counts[\"turned\"] == \"skull\"][\"Count\"]\n",
    "}\n",
    "\n",
    "colors = {\n",
    "    \"Flower turned\": \"#5ec962\",  \n",
    "    \"Skull turned\": \"#3b528b\"  \n",
    "}\n",
    "\n",
    "for boolean, turned_count in turned_counts.items():\n",
    "    p = ax.bar(player_types, turned_count, width, label=boolean, bottom=bottom, color=colors[boolean])\n",
    "    bottom += turned_count\n",
    "\n",
    "ax.set_title(\"Card Turned Outcomes - Approx Q Attempt Only\")\n",
    "ax.set_ylabel('Count of Outcome')\n",
    "ax.set_xlabel('Player Type')\n",
    "ax.legend(loc=\"upper right\")\n",
    "ax.tick_params(axis='x', labelsize=9)\n",
    "\n",
    "plt.show()"
   ]
  }
 ],
 "metadata": {
  "kernelspec": {
   "display_name": "Python 3",
   "language": "python",
   "name": "python3"
  },
  "language_info": {
   "codemirror_mode": {
    "name": "ipython",
    "version": 3
   },
   "file_extension": ".py",
   "mimetype": "text/x-python",
   "name": "python",
   "nbconvert_exporter": "python",
   "pygments_lexer": "ipython3",
   "version": "3.12.2 (v3.12.2:6abddd9f6a, Feb  6 2024, 17:02:06) [Clang 13.0.0 (clang-1300.0.29.30)]"
  },
  "orig_nbformat": 4,
  "vscode": {
   "interpreter": {
    "hash": "aee8b7b246df8f9039afb4144a1f6fd8d2ca17a180786b69acc140d282b71a49"
   }
  }
 },
 "nbformat": 4,
 "nbformat_minor": 2
}
